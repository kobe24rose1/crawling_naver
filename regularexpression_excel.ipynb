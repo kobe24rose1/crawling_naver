{
 "cells": [
  {
   "cell_type": "code",
   "execution_count": null,
   "source": [
    "import openpyxl\r\n",
    "import re\r\n",
    "\r\n",
    "regex = re.compile(' [A-Za-z]+\\.')\r\n",
    "\r\n",
    "work_book = openpyxl.load_workbook('01_data/train.xlsx')\r\n",
    "\r\n",
    "work_sheet = work_book.active\r\n",
    "\r\n",
    "for each_row in work_sheet.rows:\r\n",
    "    print (each_row[3].value)\r\n",
    "    print (regex.findall(each_row[3].value))\r\n",
    "    if len(regex.findall(each_row[3].value)) > 0:\r\n",
    "        if regex.findall(each_row[3].value)[0].strip() == \"Mr.\":\r\n",
    "            print (\"남성\")\r\n",
    "\r\n",
    "work_book.close()"
   ],
   "outputs": [],
   "metadata": {}
  }
 ],
 "metadata": {
  "orig_nbformat": 4,
  "language_info": {
   "name": "python"
  }
 },
 "nbformat": 4,
 "nbformat_minor": 2
}